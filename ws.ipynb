{
 "cells": [
  {
   "cell_type": "code",
   "execution_count": 67,
   "metadata": {},
   "outputs": [
    {
     "data": {
      "text/plain": [
       "{'name': 'NVIDIA GeForce RTX 4090',\n",
       " ' temperature.gpu': 61.0,\n",
       " ' utilization.gpu [%]': 97.0,\n",
       " ' memory.used [MiB]': 21400.0,\n",
       " ' memory.total [MiB]': 24564.0}"
      ]
     },
     "execution_count": 67,
     "metadata": {},
     "output_type": "execute_result"
    }
   ],
   "source": [
    "import subprocess\n",
    "# print(process.decode('utf-8').split('\\n')[1])\n",
    "def get_gpu_info():\n",
    "    arguments = \"name,temperature.gpu,utilization.gpu,memory.used,memory.total\"\n",
    "    command = f\"nvidia-smi --query-gpu={arguments} --format=csv\"\n",
    "    output = subprocess.Popen(command.split(), stdout=subprocess.PIPE).stdout.read()\n",
    "    # info = output.decode('utf-8')#.split('\\n')[1].split(',')\n",
    "    tags, values = output.decode('utf-8').split('\\n')[:-1]\n",
    "    tags = tags.split(',')\n",
    "    values = values.split(',')\n",
    "    output = dict(zip(tags, values))\n",
    "    for tag in output:\n",
    "        if tag != 'name':\n",
    "            output[tag] = float(output[tag].strip().split(' ')[0])\n",
    "    return output\n",
    "\n",
    "get_gpu_info()\n"
   ]
  },
  {
   "cell_type": "code",
   "execution_count": 3,
   "metadata": {},
   "outputs": [
    {
     "name": "stdout",
     "output_type": "stream",
     "text": [
      "13th Gen Intel(R) Core(TM) i9-13900F\n",
      "4.9\n",
      "[14.0, 0.4, 13.6, 1.1, 42.5, 1.1, 34.5, 0.0, 6.2, 0.0, 1.7, 0.2, 6.2, 0.4, 4.7, 0.0, 2.3, 1.1, 1.1, 1.3, 1.1, 1.5, 1.3, 1.1, 1.1, 1.1, 10.1, 2.3, 1.1, 1.1, 1.1, 1.7]\n",
      "62.60345458984375\n",
      "33.84060287475586\n"
     ]
    }
   ],
   "source": [
    "import psutil\n",
    "import re\n",
    "def get_cpu_info():\n",
    "    package_cpu_percent = psutil.cpu_percent()\n",
    "    all_cpu_percent = psutil.cpu_percent(percpu=True)\n",
    "    total_memory = psutil.virtual_memory().total/1024**3\n",
    "    used_memory = psutil.virtual_memory().used/1024**3\n",
    "    # get cpu name from cpu_info\n",
    "    cpu_info = subprocess.Popen(\"lscpu\", stdout=subprocess.PIPE).stdout.read().decode('utf-8')\n",
    "    role = re.compile(r'Model name:(.*)\\n')\n",
    "    cpu_name = role.search(cpu_info).group().split(':')[1].strip()\n",
    "    \n",
    "    return None\n",
    "get_cpu_info()"
   ]
  },
  {
   "cell_type": "code",
   "execution_count": 65,
   "metadata": {},
   "outputs": [
    {
     "data": {
      "text/plain": [
       "([33.0,\n",
       "  41.0,\n",
       "  38.0,\n",
       "  36.0,\n",
       "  38.0,\n",
       "  39.0,\n",
       "  35.0,\n",
       "  32.0,\n",
       "  39.0,\n",
       "  39.0,\n",
       "  39.0,\n",
       "  39.0,\n",
       "  36.0,\n",
       "  36.0,\n",
       "  36.0,\n",
       "  36.0,\n",
       "  37.0,\n",
       "  37.0,\n",
       "  37.0,\n",
       "  37.0,\n",
       "  33.0,\n",
       "  33.0,\n",
       "  33.0,\n",
       "  33.0],\n",
       " '41.0')"
      ]
     },
     "execution_count": 65,
     "metadata": {},
     "output_type": "execute_result"
    }
   ],
   "source": [
    "cpu_temp = subprocess.Popen(\"sensors\", stdout=subprocess.PIPE).stdout.read().decode('utf-8')\n",
    "# print(cpu_temp)\n",
    "# get each cpu temperature from cpu_temp\n",
    "pkg_role = re.compile(r'Package id 0: *[\\+\\-](.*)°C ')\n",
    "core_role = re.compile(r'Core \\d+: *[\\+\\-](.*)°C ')\n",
    "core_temp = core_role.findall(cpu_temp)\n",
    "core_temp = [float(temp) for temp in core_temp]\n",
    "pkg_temp = pkg_role.findall(cpu_temp)[0]\n",
    "core_temp, pkg_temp"
   ]
  },
  {
   "cell_type": "code",
   "execution_count": 72,
   "metadata": {},
   "outputs": [
    {
     "data": {
      "text/plain": [
       "<Popen: returncode: None args: 'nvidia-smi'>"
      ]
     },
     "execution_count": 72,
     "metadata": {},
     "output_type": "execute_result"
    }
   ],
   "source": [
    "subprocess.Popen('nvidia-smi', stdout=subprocess.PIPE)"
   ]
  },
  {
   "cell_type": "code",
   "execution_count": 85,
   "metadata": {},
   "outputs": [
    {
     "data": {
      "text/plain": [
       "'nvidia-smi --query-gpu=! --format=csv'"
      ]
     },
     "execution_count": 85,
     "metadata": {},
     "output_type": "execute_result"
    }
   ],
   "source": [
    "a = \"nvidia-smi --query-gpu={args} --format=csv\"\n",
    "a = a.format(args='!')\n",
    "a"
   ]
  },
  {
   "cell_type": "code",
   "execution_count": 1,
   "metadata": {},
   "outputs": [],
   "source": [
    "from Get_Hardware_Info import Hardware_Info\n",
    "hardware_info = Hardware_Info()\n",
    "hardware_info.get_gpu_name()"
   ]
  },
  {
   "cell_type": "code",
   "execution_count": 3,
   "metadata": {},
   "outputs": [
    {
     "data": {
      "text/plain": [
       "('NVIDIA GeForce RTX 4090', '13th Gen Intel(R) Core(TM) i9-13900F')"
      ]
     },
     "execution_count": 3,
     "metadata": {},
     "output_type": "execute_result"
    }
   ],
   "source": [
    "hardware_info.gpu_name, hardware_info.cpu_name"
   ]
  },
  {
   "cell_type": "code",
   "execution_count": 7,
   "metadata": {},
   "outputs": [
    {
     "data": {
      "text/plain": [
       "('\\x1b[0;31mhello\\x1b[0m', '\\x1b[31;0mhello\\x1b[0m')"
      ]
     },
     "execution_count": 7,
     "metadata": {},
     "output_type": "execute_result"
    }
   ],
   "source": [
    "def colored(text: str, txt_color: str=\"default\", bg_color: str='default', bright: bool=False):\n",
    "    txt_dict = {\n",
    "        'black':30, 'red':31, 'green':32, 'yellow':33,\n",
    "        'blue':34, 'purple':35, 'cyan':36, 'white':37,\n",
    "        'default':0,\n",
    "    }\n",
    "    bg_dict = {\n",
    "        'black':40, 'red':41, 'green':42, 'yellow':43,\n",
    "        'blue':44, 'purple':45, 'cyan':46, 'white':47,\n",
    "        'default':0,\n",
    "    }\n",
    "    if bright:\n",
    "        return f\"\\033[{bg_dict[bg_color]};{txt_dict[txt_color]}m\\033[1m{text}\\033[0m\"\n",
    "    return f\"\\033[{bg_dict[bg_color]};{txt_dict[txt_color]}m{text}\\033[0m\"\n",
    "\n",
    "a = \"\\033[0;31m{x}\\033[0m\"\n",
    "a.format(x='hello'), colored('hello', 'red')"
   ]
  },
  {
   "cell_type": "code",
   "execution_count": 13,
   "metadata": {},
   "outputs": [
    {
     "data": {
      "text/plain": [
       "11.9"
      ]
     },
     "execution_count": 13,
     "metadata": {},
     "output_type": "execute_result"
    }
   ],
   "source": [
    "from Get_Hardware_Info import Hardware_Info\n",
    "hardware_info = Hardware_Info()\n",
    "hardware_info.cpu_name\n",
    "hardware_info.get_cpu_info()\n",
    "hardware_info.all_cpu_percent[0]"
   ]
  },
  {
   "cell_type": "code",
   "execution_count": 32,
   "metadata": {},
   "outputs": [
    {
     "name": "stdout",
     "output_type": "stream",
     "text": [
      "!0.4  !\n"
     ]
    }
   ],
   "source": [
    "a = 0.4\n",
    "print(f\"!{str(a):5}!\")"
   ]
  },
  {
   "cell_type": "code",
   "execution_count": null,
   "metadata": {},
   "outputs": [],
   "source": []
  }
 ],
 "metadata": {
  "kernelspec": {
   "display_name": "pytorch_2",
   "language": "python",
   "name": "python3"
  },
  "language_info": {
   "codemirror_mode": {
    "name": "ipython",
    "version": 3
   },
   "file_extension": ".py",
   "mimetype": "text/x-python",
   "name": "python",
   "nbconvert_exporter": "python",
   "pygments_lexer": "ipython3",
   "version": "3.10.11"
  }
 },
 "nbformat": 4,
 "nbformat_minor": 2
}
